{
 "cells": [
  {
   "cell_type": "markdown",
   "metadata": {
    "id": "Tlb0XvJxS_oW"
   },
   "source": [
    "## **Akar Persamaan Non-Linier**\n",
    "Berikut ini merupakan fungsi dasar dari metode yang dapat digunakan untuk mencari akar Persamaan non-Linier"
   ]
  },
  {
   "cell_type": "markdown",
   "metadata": {
    "id": "8zXDT3F6UTm8"
   },
   "source": [
    "**Pencarian Akar dengan Library**\n",
    "\n",
    "Contoh Fungsi: f(x) = cos(x)-x"
   ]
  },
  {
   "cell_type": "code",
   "execution_count": 6,
   "metadata": {
    "colab": {
     "base_uri": "https://localhost:8080/"
    },
    "id": "gMnlEqjjUnAa",
    "outputId": "dba31922-a0e9-40d4-b136-dad342f9b7fa"
   },
   "outputs": [
    {
     "ename": "ModuleNotFoundError",
     "evalue": "No module named 'numpy'",
     "output_type": "error",
     "traceback": [
      "\u001b[1;31m---------------------------------------------------------------------------\u001b[0m",
      "\u001b[1;31mModuleNotFoundError\u001b[0m                       Traceback (most recent call last)",
      "Cell \u001b[1;32mIn [6], line 1\u001b[0m\n\u001b[1;32m----> 1\u001b[0m \u001b[38;5;28;01mimport\u001b[39;00m \u001b[38;5;21;01mnumpy\u001b[39;00m \u001b[38;5;28;01mas\u001b[39;00m \u001b[38;5;21;01mnp\u001b[39;00m \u001b[38;5;66;03m#library\u001b[39;00m\n\u001b[0;32m      2\u001b[0m \u001b[38;5;28;01mfrom\u001b[39;00m \u001b[38;5;21;01mscipy\u001b[39;00m \u001b[38;5;28;01mimport\u001b[39;00m optimize \n\u001b[0;32m      3\u001b[0m f \u001b[38;5;241m=\u001b[39m \u001b[38;5;28;01mlambda\u001b[39;00m x: np\u001b[38;5;241m.\u001b[39mcos(x) \u001b[38;5;241m-\u001b[39m x\n",
      "\u001b[1;31mModuleNotFoundError\u001b[0m: No module named 'numpy'"
     ]
    }
   ],
   "source": [
    "import numpy as np #library\n",
    "from scipy import optimize #berfungsi untuk mencari nilai minimum dari suatu akar\n",
    "f = lambda x: np.cos(x) - x #lambda berfungsi sebagai anonim, dimana suatu fungsi tdk memiliki nama, contoh: f(x)\n",
    "r = optimize.fsolve(f, -2)\n",
    "print(\"r =\",r)\n",
    "# Verify the solution is a root\n",
    "result = f(r) #f(x)=0\n",
    "print(\"result=\", result)"
   ]
  },
  {
   "cell_type": "markdown",
   "metadata": {
    "id": "ySxrsdzGTn0Z"
   },
   "source": [
    "**Metode Bagi Dua**"
   ]
  },
  {
   "cell_type": "code",
   "execution_count": 3,
   "metadata": {
    "id": "j7lAxfNeS9M0"
   },
   "outputs": [
    {
     "ename": "ModuleNotFoundError",
     "evalue": "No module named 'numpy'",
     "output_type": "error",
     "traceback": [
      "\u001b[1;31m---------------------------------------------------------------------------\u001b[0m",
      "\u001b[1;31mModuleNotFoundError\u001b[0m                       Traceback (most recent call last)",
      "Cell \u001b[1;32mIn [3], line 1\u001b[0m\n\u001b[1;32m----> 1\u001b[0m \u001b[38;5;28;01mimport\u001b[39;00m \u001b[38;5;21;01mnumpy\u001b[39;00m \u001b[38;5;28;01mas\u001b[39;00m \u001b[38;5;21;01mnp\u001b[39;00m \u001b[38;5;66;03m#panggil library\u001b[39;00m\n\u001b[0;32m      2\u001b[0m \u001b[38;5;28;01mdef\u001b[39;00m \u001b[38;5;21mmy_bisection\u001b[39m(f, a, b, e):\n\u001b[0;32m      3\u001b[0m   \u001b[38;5;28;01mif\u001b[39;00m np\u001b[38;5;241m.\u001b[39msign(f(a)) \u001b[38;5;241m==\u001b[39m np\u001b[38;5;241m.\u001b[39msign(f(b)):\n",
      "\u001b[1;31mModuleNotFoundError\u001b[0m: No module named 'numpy'"
     ]
    }
   ],
   "source": [
    "import numpy as np #panggil library\n",
    "def my_bisection(f, a, b, e):\n",
    "  if np.sign(f(a)) == np.sign(f(b)): #np.sign berfungsi untuk melihat tanda pada f(a) dan f(b)\n",
    "    raise Exception('Tidak ada akar pada interval a dan b') #apabila memiliki tanda sama\n",
    "  m = (a + b)/2 #mencari titik tengah\n",
    "  if np.abs(f(m)) < e: #mencari apakah nilai pada titik tengah kurang dari nilai epsilon\n",
    "    return m\n",
    "  elif np.sign(f(a)) == np.sign(f(m)): #mengecek tanda pada f(a) dgn f(m)\n",
    "    return my_bisection(f, m, b, e) #a=m\n",
    "  elif np.sign(f(b)) == np.sign(f(m)): #mengecek tanda pada f(a) dgn f(m)\n",
    "    return my_bisection(f, a, m, e) #b=m"
   ]
  },
  {
   "cell_type": "markdown",
   "metadata": {
    "id": "QK5X5eINXZln"
   },
   "source": [
    "**Contoh Pencarian Akar dengan Metode Bagi Dua**\n",
    "\n",
    "f(x)=x^2 - 2"
   ]
  },
  {
   "cell_type": "code",
   "execution_count": 12,
   "metadata": {
    "colab": {
     "base_uri": "https://localhost:8080/"
    },
    "id": "eJr_l7e2XyM0",
    "outputId": "9f0a0bf6-a59a-4ae7-fc1c-e4c436d940ea"
   },
   "outputs": [
    {
     "name": "stdout",
     "output_type": "stream",
     "text": [
      "r1 = 1.4375\n",
      "f(r1) = 0.06640625\n",
      "r01 = 1.4140625\n",
      "f(r01) = -0.00042724609375\n"
     ]
    }
   ],
   "source": [
    "import numpy as np #panggil library\n",
    "f = lambda x: x**2-2 #menguraikan fungsi f(x)=x^2-2\n",
    "\n",
    "r1 = my_bisection(f, 0, 2, 0.1)\n",
    "print(\"r1 =\", r1)\n",
    "print(\"f(r1) =\", f(r1))\n",
    "\n",
    "r01 = my_bisection(f, 0, 2, 0.01)\n",
    "print(\"r01 =\", r01)\n",
    "print(\"f(r01) =\", f(r01))"
   ]
  },
  {
   "cell_type": "code",
   "execution_count": 13,
   "metadata": {
    "colab": {
     "base_uri": "https://localhost:8080/",
     "height": 322
    },
    "id": "wXEmWDL3Yh1R",
    "outputId": "66a66430-8175-4210-f0f5-180d79f1eb76"
   },
   "outputs": [
    {
     "ename": "Exception",
     "evalue": "ignored",
     "output_type": "error",
     "traceback": [
      "\u001b[0;31m---------------------------------------------------------------------------\u001b[0m",
      "\u001b[0;31mException\u001b[0m                                 Traceback (most recent call last)",
      "\u001b[0;32m<ipython-input-13-9db7d48a44ca>\u001b[0m in \u001b[0;36m<module>\u001b[0;34m\u001b[0m\n\u001b[1;32m      1\u001b[0m \u001b[0;32mimport\u001b[0m \u001b[0mnumpy\u001b[0m \u001b[0;32mas\u001b[0m \u001b[0mnp\u001b[0m \u001b[0;31m#panggil library\u001b[0m\u001b[0;34m\u001b[0m\u001b[0;34m\u001b[0m\u001b[0m\n\u001b[1;32m      2\u001b[0m \u001b[0mf\u001b[0m \u001b[0;34m=\u001b[0m \u001b[0;32mlambda\u001b[0m \u001b[0mx\u001b[0m\u001b[0;34m:\u001b[0m \u001b[0mx\u001b[0m\u001b[0;34m**\u001b[0m\u001b[0;36m2\u001b[0m\u001b[0;34m-\u001b[0m\u001b[0;36m2\u001b[0m\u001b[0;34m\u001b[0m\u001b[0;34m\u001b[0m\u001b[0m\n\u001b[0;32m----> 3\u001b[0;31m \u001b[0mmy_bisection\u001b[0m\u001b[0;34m(\u001b[0m\u001b[0mf\u001b[0m\u001b[0;34m,\u001b[0m \u001b[0;36m2\u001b[0m\u001b[0;34m,\u001b[0m \u001b[0;36m4\u001b[0m\u001b[0;34m,\u001b[0m \u001b[0;36m0.01\u001b[0m\u001b[0;34m)\u001b[0m\u001b[0;34m\u001b[0m\u001b[0;34m\u001b[0m\u001b[0m\n\u001b[0m",
      "\u001b[0;32m<ipython-input-11-232ee789a6b2>\u001b[0m in \u001b[0;36mmy_bisection\u001b[0;34m(f, a, b, e)\u001b[0m\n\u001b[1;32m      2\u001b[0m \u001b[0;32mdef\u001b[0m \u001b[0mmy_bisection\u001b[0m\u001b[0;34m(\u001b[0m\u001b[0mf\u001b[0m\u001b[0;34m,\u001b[0m \u001b[0ma\u001b[0m\u001b[0;34m,\u001b[0m \u001b[0mb\u001b[0m\u001b[0;34m,\u001b[0m \u001b[0me\u001b[0m\u001b[0;34m)\u001b[0m\u001b[0;34m:\u001b[0m\u001b[0;34m\u001b[0m\u001b[0;34m\u001b[0m\u001b[0m\n\u001b[1;32m      3\u001b[0m   \u001b[0;32mif\u001b[0m \u001b[0mnp\u001b[0m\u001b[0;34m.\u001b[0m\u001b[0msign\u001b[0m\u001b[0;34m(\u001b[0m\u001b[0mf\u001b[0m\u001b[0;34m(\u001b[0m\u001b[0ma\u001b[0m\u001b[0;34m)\u001b[0m\u001b[0;34m)\u001b[0m \u001b[0;34m==\u001b[0m \u001b[0mnp\u001b[0m\u001b[0;34m.\u001b[0m\u001b[0msign\u001b[0m\u001b[0;34m(\u001b[0m\u001b[0mf\u001b[0m\u001b[0;34m(\u001b[0m\u001b[0mb\u001b[0m\u001b[0;34m)\u001b[0m\u001b[0;34m)\u001b[0m\u001b[0;34m:\u001b[0m\u001b[0;34m\u001b[0m\u001b[0;34m\u001b[0m\u001b[0m\n\u001b[0;32m----> 4\u001b[0;31m     \u001b[0;32mraise\u001b[0m \u001b[0mException\u001b[0m\u001b[0;34m(\u001b[0m\u001b[0;34m'Tidak ada akar pada interval a dan b'\u001b[0m\u001b[0;34m)\u001b[0m\u001b[0;34m\u001b[0m\u001b[0;34m\u001b[0m\u001b[0m\n\u001b[0m\u001b[1;32m      5\u001b[0m   \u001b[0mm\u001b[0m \u001b[0;34m=\u001b[0m \u001b[0;34m(\u001b[0m\u001b[0ma\u001b[0m \u001b[0;34m+\u001b[0m \u001b[0mb\u001b[0m\u001b[0;34m)\u001b[0m\u001b[0;34m/\u001b[0m\u001b[0;36m2\u001b[0m\u001b[0;34m\u001b[0m\u001b[0;34m\u001b[0m\u001b[0m\n\u001b[1;32m      6\u001b[0m   \u001b[0;32mif\u001b[0m \u001b[0mnp\u001b[0m\u001b[0;34m.\u001b[0m\u001b[0mabs\u001b[0m\u001b[0;34m(\u001b[0m\u001b[0mf\u001b[0m\u001b[0;34m(\u001b[0m\u001b[0mm\u001b[0m\u001b[0;34m)\u001b[0m\u001b[0;34m)\u001b[0m \u001b[0;34m<\u001b[0m \u001b[0me\u001b[0m\u001b[0;34m:\u001b[0m\u001b[0;34m\u001b[0m\u001b[0;34m\u001b[0m\u001b[0m\n",
      "\u001b[0;31mException\u001b[0m: Tidak ada akar pada interval a dan b"
     ]
    }
   ],
   "source": [
    "import numpy as np #panggil library\n",
    "f = lambda x: x**2-2\n",
    "my_bisection(f, 2, 4, 0.01)"
   ]
  },
  {
   "cell_type": "markdown",
   "metadata": {
    "id": "uqd3qNtxS939"
   },
   "source": [
    "**Metode Newton-Raphson**"
   ]
  },
  {
   "cell_type": "code",
   "execution_count": 5,
   "metadata": {
    "id": "NWM7-9tpVr0a"
   },
   "outputs": [],
   "source": [
    "import numpy as np #panggil library\n",
    "def my_newton(f, df, x0, e):\n",
    "# output is an estimation of the root of f\n",
    "# using the Newton-Raphson method\n",
    "# recursive implementation\n",
    "  if abs(f(x0)) < e:\n",
    "    return x0\n",
    "  else:\n",
    "    return my_newton(f, df, x0 - f(x0)/df(x0), e)"
   ]
  },
  {
   "cell_type": "markdown",
   "metadata": {
    "id": "ffztAnc9ZbtI"
   },
   "source": [
    "**Contoh Pencarian Akar dengan Metode Bagi Dua**\n",
    "\n",
    "f(x)=x^2 - 2"
   ]
  },
  {
   "cell_type": "code",
   "execution_count": 15,
   "metadata": {
    "colab": {
     "base_uri": "https://localhost:8080/"
    },
    "id": "zFJnxIytZhln",
    "outputId": "e6d71caf-ed8a-4bd9-8946-7e39709d49c1"
   },
   "outputs": [
    {
     "name": "stdout",
     "output_type": "stream",
     "text": [
      "estimate = 1.4142135623746899\n",
      "sqrt(2) = 1.4142135623730951\n"
     ]
    }
   ],
   "source": [
    "f = lambda x: x**2-2\n",
    "f_prime = lambda x: 2*x\n",
    "estimate = my_newton(f, f_prime, 1.5, 1e-6)\n",
    "print(\"estimate =\", estimate)\n",
    "print(\"sqrt(2) =\",np.sqrt(2))"
   ]
  },
  {
   "cell_type": "markdown",
   "metadata": {
    "id": "_l79MbNaaO9N"
   },
   "source": [
    "# **Latihan**"
   ]
  },
  {
   "cell_type": "markdown",
   "metadata": {
    "id": "XX6f9MQOaTas"
   },
   "source": [
    "**No.1 **\n",
    "Buatlah sebuah fungsi penyelesaian yang tepat baik dengan menggunakan metode Bagi Dua maupun Newton Raphson ketika \n",
    "\n",
    "a. f(x) = x^3 - 2x + 1\n",
    "\n",
    "b. f(x) = e^x - x\n",
    "\n",
    "**No 2**\n",
    "\n",
    "Buatlah modifikasi fungsi ketika kriteria program berhenti adalah sudah mencapai pada iterasi ke-n baik untuk Bagi Dua maupun Newton Raphson"
   ]
  },
  {
   "cell_type": "code",
   "execution_count": 7,
   "metadata": {
    "id": "MjocESJra-b5"
   },
   "outputs": [
    {
     "ename": "ModuleNotFoundError",
     "evalue": "No module named 'numpy'",
     "output_type": "error",
     "traceback": [
      "\u001b[1;31m---------------------------------------------------------------------------\u001b[0m",
      "\u001b[1;31mModuleNotFoundError\u001b[0m                       Traceback (most recent call last)",
      "Cell \u001b[1;32mIn [7], line 3\u001b[0m\n\u001b[0;32m      1\u001b[0m \u001b[38;5;66;03m#1a\u001b[39;00m\n\u001b[0;32m      2\u001b[0m \u001b[38;5;66;03m#Metode Bagi Dua f(x) = x^3 - 2x + 1 \u001b[39;00m\n\u001b[1;32m----> 3\u001b[0m \u001b[38;5;28;01mimport\u001b[39;00m \u001b[38;5;21;01mnumpy\u001b[39;00m \u001b[38;5;28;01mas\u001b[39;00m \u001b[38;5;21;01mnp\u001b[39;00m \u001b[38;5;66;03m#library\u001b[39;00m\n\u001b[0;32m      5\u001b[0m f \u001b[38;5;241m=\u001b[39m \u001b[38;5;28;01mlambda\u001b[39;00m x: x\u001b[38;5;241m*\u001b[39m\u001b[38;5;241m*\u001b[39m\u001b[38;5;241m3\u001b[39m\u001b[38;5;241m-\u001b[39m\u001b[38;5;241m2\u001b[39m\u001b[38;5;241m*\u001b[39mx\u001b[38;5;241m+\u001b[39m\u001b[38;5;241m1\u001b[39m\n\u001b[0;32m      7\u001b[0m r1 \u001b[38;5;241m=\u001b[39m my_bisection(f, \u001b[38;5;241m0\u001b[39m, \u001b[38;5;241m1\u001b[39m, \u001b[38;5;241m0.2\u001b[39m)\n",
      "\u001b[1;31mModuleNotFoundError\u001b[0m: No module named 'numpy'"
     ]
    }
   ],
   "source": [
    "#1a\n",
    "#Metode Bagi Dua f(x) = x^3 - 2x + 1 \n",
    "import numpy as np #library\n",
    "\n",
    "f = lambda x: x**3-2*x+1\n",
    "\n",
    "r1 = my_bisection(f, 0, 1, 0.2)\n",
    "print(\"r1 =\", r1)\n",
    "print(\"f(r1) =\", f(r1))\n",
    "\n",
    "#Metode Newton Raphson f(x) = x^3 - 2x + 1 \n",
    "import numpy as np #library\n",
    "\n",
    "f = lambda x: x**3-2*x+1\n",
    "f_prime = lambda x: 2*x\n",
    "estimate = my_newton(f, f_prime, 1.5, 1e-6)\n",
    "print(\"estimate =\", estimate)\n",
    "print(\"sqrt(2) =\",np.sqrt(2))"
   ]
  },
  {
   "cell_type": "code",
   "execution_count": null,
   "metadata": {},
   "outputs": [],
   "source": [
    "#1b\n",
    "#tidak dapat diselesaikan karena tidak memiliki garis yang menyentuh sumbu x"
   ]
  },
  {
   "cell_type": "code",
   "execution_count": 1,
   "metadata": {},
   "outputs": [
    {
     "name": "stdout",
     "output_type": "stream",
     "text": [
      "Batas Iterasi: 5\n",
      "estimate = 1.4142135623746899\n"
     ]
    }
   ],
   "source": [
    "#2 (Newton Raphson)\n",
    "import math\n",
    "i = 1\n",
    "y = int(input(\"Batas Iterasi: \"))\n",
    "def my_newton(f, df, x0, e, i, y):\n",
    "# output is an estimation of the root of f\n",
    "# using the Newton-Raphson method\n",
    "# recursive implementation\n",
    "  if (abs(f(x0)) < e) | (i==y) :\n",
    "    return x0\n",
    "  else:\n",
    "    i+=1\n",
    "    return my_newton(f, df, x0 - f(x0)/df(x0), e, i, y)\n",
    "    \n",
    "f = lambda x: x**2-2\n",
    "f_prime = lambda x: 2*x\n",
    "estimate = my_newton(f, f_prime, 1.5, 1e-6, i, y)\n",
    "print(\"estimate =\", estimate)"
   ]
  },
  {
   "cell_type": "code",
   "execution_count": null,
   "metadata": {},
   "outputs": [],
   "source": []
  }
 ],
 "metadata": {
  "colab": {
   "provenance": []
  },
  "kernelspec": {
   "display_name": "Python 3 (ipykernel)",
   "language": "python",
   "name": "python3"
  },
  "language_info": {
   "codemirror_mode": {
    "name": "ipython",
    "version": 3
   },
   "file_extension": ".py",
   "mimetype": "text/x-python",
   "name": "python",
   "nbconvert_exporter": "python",
   "pygments_lexer": "ipython3",
   "version": "3.10.7"
  }
 },
 "nbformat": 4,
 "nbformat_minor": 1
}
