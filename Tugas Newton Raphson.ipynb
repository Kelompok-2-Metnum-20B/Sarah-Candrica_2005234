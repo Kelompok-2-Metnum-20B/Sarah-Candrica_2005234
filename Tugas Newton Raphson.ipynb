{
 "cells": [
  {
   "cell_type": "code",
   "execution_count": 2,
   "id": "470ae7d6",
   "metadata": {},
   "outputs": [
    {
     "ename": "ModuleNotFoundError",
     "evalue": "No module named 'numpy'",
     "output_type": "error",
     "traceback": [
      "\u001b[1;31m---------------------------------------------------------------------------\u001b[0m",
      "\u001b[1;31mModuleNotFoundError\u001b[0m                       Traceback (most recent call last)",
      "Cell \u001b[1;32mIn [2], line 3\u001b[0m\n\u001b[0;32m      1\u001b[0m \u001b[38;5;66;03m#Eksplorasi kode program untuk metode Newton Raphson\u001b[39;00m\n\u001b[1;32m----> 3\u001b[0m \u001b[38;5;28;01mimport\u001b[39;00m \u001b[38;5;21;01mnumpy\u001b[39;00m \u001b[38;5;28;01mas\u001b[39;00m \u001b[38;5;21;01mnp\u001b[39;00m \u001b[38;5;66;03m#panggil library\u001b[39;00m\n\u001b[0;32m      4\u001b[0m \u001b[38;5;28;01mdef\u001b[39;00m \u001b[38;5;21mmy_newton\u001b[39m(f, df, x0, e):\n\u001b[0;32m      5\u001b[0m \u001b[38;5;66;03m# output is an estimation of the root of f\u001b[39;00m\n\u001b[0;32m      6\u001b[0m \u001b[38;5;66;03m# using the Newton-Raphson method\u001b[39;00m\n\u001b[0;32m      7\u001b[0m \u001b[38;5;66;03m# recursive implementation\u001b[39;00m\n\u001b[0;32m      8\u001b[0m   \u001b[38;5;28;01mif\u001b[39;00m \u001b[38;5;28mabs\u001b[39m(f(x0)) \u001b[38;5;241m<\u001b[39m e:\n",
      "\u001b[1;31mModuleNotFoundError\u001b[0m: No module named 'numpy'"
     ]
    }
   ],
   "source": [
    "#Eksplorasi kode program untuk metode Newton Raphson\n",
    "\n",
    "import numpy as np #panggil library\n",
    "def my_newton(f, df, x0, e):\n",
    "# output is an estimation of the root of f\n",
    "# using the Newton-Raphson method\n",
    "# recursive implementation\n",
    "  if abs(f(x0)) < e:\n",
    "    return x0\n",
    "  else:\n",
    "    return my_newton(f, df, x0 - f(x0)/df(x0), e)\n",
    "\n",
    "f = lambda x: x**2-2*x-8 #definisi dari nilai f(x)=x^2-2x-8\n",
    "f_prime = lambda x: 2*x-2 #turunan dari f(x)->f'(x)\n",
    "estimate = my_newton(f, f_prime, 4.5, 1e-6)\n",
    "print(\"estimate =\", estimate)\n",
    "print(\"sqrt(2) =\",np.sqrt(2))#hasil akar "
   ]
  },
  {
   "cell_type": "code",
   "execution_count": 8,
   "id": "345b292e",
   "metadata": {},
   "outputs": [
    {
     "name": "stdout",
     "output_type": "stream",
     "text": [
      "Batas Iterasi: 4\n",
      "estimate = 4.000000007355369\n"
     ]
    }
   ],
   "source": [
    "#metode Newton Rapshon dengan batas iterasi\n",
    "\n",
    "import math\n",
    "i = 1\n",
    "y = int(input(\"Batas Iterasi: \"))\n",
    "def my_newton(f, df, x0, e, i, y):\n",
    "# output is an estimation of the root of f\n",
    "# using the Newton-Raphson method\n",
    "# recursive implementation\n",
    "  if (abs(f(x0)) < e) | (i==y) :\n",
    "    return x0\n",
    "  else:\n",
    "    i+=1\n",
    "    return my_newton(f, df, x0 - f(x0)/df(x0), e, i, y)\n",
    "    \n",
    "f = lambda x: x**2-2*x-8 #definisi dari nilai f(x)=x^2-2x-8\n",
    "f_prime = lambda x: 2*x-2 #turunan dari nilai f(x)\n",
    "estimate = my_newton(f, f_prime, 4.5, 1e-6, i, y)\n",
    "print(\"estimate =\", estimate)"
   ]
  },
  {
   "cell_type": "code",
   "execution_count": null,
   "id": "76855ef3",
   "metadata": {},
   "outputs": [],
   "source": []
  },
  {
   "cell_type": "code",
   "execution_count": null,
   "id": "6abecdef",
   "metadata": {},
   "outputs": [],
   "source": []
  }
 ],
 "metadata": {
  "kernelspec": {
   "display_name": "Python 3 (ipykernel)",
   "language": "python",
   "name": "python3"
  },
  "language_info": {
   "codemirror_mode": {
    "name": "ipython",
    "version": 3
   },
   "file_extension": ".py",
   "mimetype": "text/x-python",
   "name": "python",
   "nbconvert_exporter": "python",
   "pygments_lexer": "ipython3",
   "version": "3.10.7"
  }
 },
 "nbformat": 4,
 "nbformat_minor": 5
}
